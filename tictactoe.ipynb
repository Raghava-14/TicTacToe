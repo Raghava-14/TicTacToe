{
 "cells": [
  {
   "cell_type": "code",
   "execution_count": null,
   "metadata": {},
   "outputs": [],
   "source": [
    "from IPython.display import clear_output\n",
    "def display_board(board):\n",
    "    clear_output()\n",
    "    print(board[7]+' | '+board[8]+' | '+board[9])\n",
    "    print('---------')\n",
    "    print(board[4]+' | '+board[5]+' | '+board[6])\n",
    "    print('---------')\n",
    "    print(board[1]+' | '+board[2]+' | '+board[3])"
   ]
  },
  {
   "cell_type": "code",
   "execution_count": null,
   "metadata": {},
   "outputs": [],
   "source": [
    "test_board=[' ']*10\n",
    "display_board(test_board)"
   ]
  },
  {
   "cell_type": "code",
   "execution_count": null,
   "metadata": {},
   "outputs": [],
   "source": [
    "def player_input():\n",
    "    marker=''\n",
    "    while marker != 'X' and marker!='O':\n",
    "        marker=input('P1, Choose X or O!!: ')\n",
    "    \n",
    "    p1=marker\n",
    "    \n",
    "    if p1=='X':\n",
    "        p2='O'\n",
    "    else:\n",
    "        p2='X'\n",
    "        \n",
    "    return(p1,p2)"
   ]
  },
  {
   "cell_type": "code",
   "execution_count": null,
   "metadata": {},
   "outputs": [],
   "source": [
    "def place_marker(board,marker,position):\n",
    "    board[position]=marker"
   ]
  },
  {
   "cell_type": "code",
   "execution_count": null,
   "metadata": {},
   "outputs": [],
   "source": [
    "def win_check(board, marker):\n",
    "    return ((board[1]==board[2]==board[3]==marker) or\n",
    "            (board[4]==board[5]==board[6]==marker) or\n",
    "            (board[7]==board[8]==board[9]==marker) or\n",
    "            (board[1]==board[4]==board[7]==marker) or\n",
    "            (board[2]==board[5]==board[8]==marker) or\n",
    "            (board[3]==board[6]==board[9]==marker) or\n",
    "            (board[1]==board[5]==board[9]==marker) or\n",
    "            (board[3]==board[5]==board[7]==marker))"
   ]
  },
  {
   "cell_type": "code",
   "execution_count": null,
   "metadata": {},
   "outputs": [],
   "source": [
    "import random\n",
    "def choose_first():\n",
    "    result=random.randint(1,2)\n",
    "    if result==1:\n",
    "        return 'P1'\n",
    "    else:\n",
    "        return 'P2'"
   ]
  },
  {
   "cell_type": "code",
   "execution_count": null,
   "metadata": {},
   "outputs": [],
   "source": [
    "def space_check(board,position):\n",
    "    return board[position]==' '"
   ]
  },
  {
   "cell_type": "code",
   "execution_count": null,
   "metadata": {},
   "outputs": [],
   "source": [
    "def full_board_check(board):\n",
    "    for i in range(1,10):\n",
    "        if space_check(board,i):\n",
    "            return False\n",
    "    return True"
   ]
  },
  {
   "cell_type": "code",
   "execution_count": null,
   "metadata": {},
   "outputs": [],
   "source": [
    "def player_choice(board):\n",
    "    position=0\n",
    "    while position not in[1,2,3,4,5,6,7,8,9] or not space_check(board,position):\n",
    "        position = int(input('Choose a position(1-9): '))\n",
    "    return position"
   ]
  },
  {
   "cell_type": "code",
   "execution_count": null,
   "metadata": {},
   "outputs": [],
   "source": [
    "def replay():\n",
    "    choice=input(\"Play again? Enter yes or no: \")\n",
    "    return choice=='yes'"
   ]
  },
  {
   "cell_type": "code",
   "execution_count": null,
   "metadata": {},
   "outputs": [],
   "source": [
    "#Start Game\n",
    "print(\"Welcome to Tic-Tac-Toe\")\n",
    "\n",
    "while True:\n",
    "    \n",
    "    the_board=[' ']*10\n",
    "    \n",
    "    p1,p2=player_input()\n",
    "    turn =choose_first()\n",
    "    \n",
    "    print(turn+\" will go 1st\")\n",
    "    \n",
    "    play_game=input('Ready to play? y or n: ')\n",
    "    \n",
    "    if play_game=='y':\n",
    "        game_on=True\n",
    "    else:\n",
    "        game_on=False\n",
    "        \n",
    "    while game_on:\n",
    "        if turn=='P1':\n",
    "            display_board(the_board)\n",
    "            \n",
    "            position=player_choice(the_board)\n",
    "            \n",
    "            place_marker(the_board,p1,position)\n",
    "            \n",
    "            if win_check(the_board,p1):\n",
    "                display_board(the_board)\n",
    "                print(\"Player1 wins!!\")\n",
    "                game_on=False\n",
    "                \n",
    "            else:\n",
    "                if full_board_check(the_board):\n",
    "                    display_board(the_board)\n",
    "                    print(\"Game Tie\")\n",
    "                    game_on=False\n",
    "                else:\n",
    "                    turn='P2'\n",
    "                \n",
    "                \n",
    "        else:\n",
    "            display_board(the_board)\n",
    "            \n",
    "            position=player_choice(the_board)\n",
    "            \n",
    "            place_marker(the_board,p2,position)\n",
    "            \n",
    "            if win_check(the_board,p2):\n",
    "                display_board(the_board)\n",
    "                print(\"Player2 wins!!\")\n",
    "                game_on=False\n",
    "                \n",
    "            else:\n",
    "                if full_board_check(the_board):\n",
    "                    display_board(the_board)\n",
    "                    print(\"Game Tie\")\n",
    "                    game_on=False\n",
    "                else:\n",
    "                    turn='P1'\n",
    "    if not replay():\n",
    "        break"
   ]
  }
 ],
 "metadata": {
  "kernelspec": {
   "display_name": "Python 3",
   "language": "python",
   "name": "python3"
  },
  "language_info": {
   "codemirror_mode": {
    "name": "ipython",
    "version": 3
   },
   "file_extension": ".py",
   "mimetype": "text/x-python",
   "name": "python",
   "nbconvert_exporter": "python",
   "pygments_lexer": "ipython3",
   "version": "3.7.6"
  }
 },
 "nbformat": 4,
 "nbformat_minor": 4
}
